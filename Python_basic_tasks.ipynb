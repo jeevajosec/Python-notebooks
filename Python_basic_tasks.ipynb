{
 "cells": [
  {
   "cell_type": "markdown",
   "id": "7aa34b71-ba55-40ab-ac9d-65ad0989a7b6",
   "metadata": {},
   "source": [
    "Write Python code that prints your name, student number and email address.  \n",
    "An example runs of the program:  "
   ]
  },
  {
   "cell_type": "code",
   "execution_count": 3,
   "id": "9fa6f445-b981-49da-bd53-ab054d18e1a9",
   "metadata": {},
   "outputs": [
    {
     "name": "stdout",
     "output_type": "stream",
     "text": [
      "Jeeva Jose\n",
      "D33Jeeva\n",
      "jeevajosec@gmail.com\n"
     ]
    }
   ],
   "source": [
    "print(\"Jeeva Jose\")\n",
    "print(\"D33Jeeva\")\n",
    "print(\"jeevajosec@gmail.com\")"
   ]
  },
  {
   "cell_type": "markdown",
   "id": "e2338475-e37d-4e53-9854-9a93cb9adf05",
   "metadata": {},
   "source": [
    "Write Python code that prints your name, student number and email address using escape sequences.     \n"
   ]
  },
  {
   "cell_type": "code",
   "execution_count": 4,
   "id": "013cd698-a1eb-4573-8684-580fb17a7924",
   "metadata": {},
   "outputs": [
    {
     "name": "stdout",
     "output_type": "stream",
     "text": [
      "Jeeva Jose \n",
      "D33Jeeva\n",
      "jeevajosec@gmail.com\n"
     ]
    }
   ],
   "source": [
    "print(\"Jeeva Jose \\nD33Jeeva\\njeevajosec@gmail.com\")"
   ]
  },
  {
   "cell_type": "markdown",
   "id": "56806b87-2894-4a87-9b13-ff011c760160",
   "metadata": {},
   "source": [
    "Write Python code that add, subtract, multiply and divide the two numbers. You can use the two numbers 14 and 7. "
   ]
  },
  {
   "cell_type": "code",
   "execution_count": 11,
   "id": "f2a02b7c-d953-421d-9865-021bfe97a802",
   "metadata": {},
   "outputs": [
    {
     "name": "stdout",
     "output_type": "stream",
     "text": [
      "14+7=21\n",
      "14-7=7\n",
      "14*7=98\n",
      "14/7=2.0\n"
     ]
    }
   ],
   "source": [
    "a=int(14)\n",
    "b=int(7)\n",
    "print(f\"{a}+{b}={a+b}\")\n",
    "print(f\"{a}-{b}={a-b}\")\n",
    "print(f\"{a}*{b}={a*b}\")\n",
    "print(f\"{a}/{b}={a/b}\")"
   ]
  },
  {
   "cell_type": "markdown",
   "id": "e56fc3b6-f440-4635-9179-2ea878bca839",
   "metadata": {},
   "source": [
    "Write Python code that displays the numbers from 1 to 5 as steps"
   ]
  },
  {
   "cell_type": "code",
   "execution_count": 12,
   "id": "97de42c7-d3aa-4eaf-be52-e27cf1171121",
   "metadata": {},
   "outputs": [
    {
     "name": "stdout",
     "output_type": "stream",
     "text": [
      "1\n",
      "2\n",
      "3\n",
      "4\n",
      "5\n"
     ]
    }
   ],
   "source": [
    "for i in range(5):\n",
    "    print(i+1)"
   ]
  },
  {
   "cell_type": "markdown",
   "id": "d358f5f9-4626-43ac-8d9c-1b00f4faddcc",
   "metadata": {},
   "source": [
    "Write Python code that outputs the following sentence (including the quotation marks and line break) to the screen: \n",
    "An example runs of the program:  \n",
    "\"SDK\" stands for \"Software Development Kit\", whereas \n",
    "\"IDE\" stands for \"Integrated Development Environment\"."
   ]
  },
  {
   "cell_type": "code",
   "execution_count": 14,
   "id": "98e80768-dabd-4957-9519-84a0bbbb4b69",
   "metadata": {},
   "outputs": [
    {
     "name": "stdout",
     "output_type": "stream",
     "text": [
      "\"SDK\" stands for \"Software Development Kit\", whereas \n",
      "\"IDE\" stands for \"Integrated Development Environment\".\n"
     ]
    }
   ],
   "source": [
    "print('\"SDK\" stands for \"Software Development Kit\", whereas \\n\"IDE\" stands for \"Integrated Development Environment\".')"
   ]
  },
  {
   "cell_type": "markdown",
   "id": "082b4590-80c0-4911-ba81-af17ac1ff0c7",
   "metadata": {},
   "source": [
    "Practice and check the output"
   ]
  },
  {
   "cell_type": "code",
   "execution_count": 22,
   "id": "19627d18-e9f9-4d31-9368-15e9aae44c99",
   "metadata": {},
   "outputs": [
    {
     "name": "stdout",
     "output_type": "stream",
     "text": [
      "python is an \"awesome\" language.\n",
      "python\n",
      "\t2023\n",
      "I'm from Entri\n",
      "5\n",
      "e\n",
      "Entri\n",
      "2023\n",
      "Entr2023\n",
      "Entri*20"
     ]
    }
   ],
   "source": [
    "print(\"python is an \\\"awesome\\\" language.\")\n",
    "print(\"python\\n\\t2023\")\n",
    "print('I\\'m from Entri.\\b')\n",
    "print(\"\\65\")\n",
    "print(\"\\x65\")\n",
    "print(\"Entri\", \"2023\", sep=\"\\n\")\n",
    "print(\"Entri\", \"2023\", sep=\"\\b\")\n",
    "print(\"Entri\", \"2023\", sep=\"*\", end=\"\\b\\b\\b\\b\")"
   ]
  },
  {
   "cell_type": "markdown",
   "id": "5082e9d2-5e61-47f1-bada-0b6ae6ac2b20",
   "metadata": {},
   "source": [
    "Define the variables below. Print the types of each variable. What is the sum of your variables? (Hint: use a type conversion function.) What datatype is the sum?\n",
    "num=23\n",
    "textnum=\"57\"\n",
    "decimal=98.3"
   ]
  },
  {
   "cell_type": "code",
   "execution_count": 29,
   "id": "070c446a-a7ad-4e71-be68-6158916040ec",
   "metadata": {},
   "outputs": [
    {
     "name": "stdout",
     "output_type": "stream",
     "text": [
      "<class 'int'>\n",
      "<class 'str'>\n",
      "<class 'float'>\n",
      "178.3\n",
      "<class 'float'>\n"
     ]
    }
   ],
   "source": [
    "num=23 \n",
    "textnum=\"57\" \n",
    "decimal=98.3\n",
    "print(type(num))\n",
    "print(type(textnum))\n",
    "print(type(decimal))\n",
    "\n",
    "\n",
    "sum = num+int(textnum)+decimal\n",
    "print(sum)\n",
    "print(type(sum))"
   ]
  },
  {
   "cell_type": "markdown",
   "id": "b8d421d5-c0bd-4700-aa00-329337fc5831",
   "metadata": {},
   "source": [
    "calculate the number of minutes in a year using variables for each unit of time. print a statement that describes what your code does also. Create three variables to store no of days in a year, minute in a hour, hours in a day, then calculate the total minutes in a year and print the values\n",
    "(hint) total number of minutes in an year =No.of days in an year * Hours in a day * Minutes in an hour"
   ]
  },
  {
   "cell_type": "code",
   "execution_count": 40,
   "id": "1662f8f9-4d1a-439c-b5ce-636419843195",
   "metadata": {},
   "outputs": [
    {
     "name": "stdout",
     "output_type": "stream",
     "text": [
      "h is the number of hours in a day\n",
      "m is the number of minutes in a hr\n",
      "d is the number of days in an year\n",
      "h=24\n",
      "m=60\n",
      "y=365\n",
      "number of minutes in an year= 365*24*60=525600\n"
     ]
    }
   ],
   "source": [
    "print(\"h is the number of hours in a day\")\n",
    "h=24\n",
    "print(\"m is the number of minutes in a hr\")\n",
    "m=60\n",
    "print(\"d is the number of days in an year\")\n",
    "d=365\n",
    "print(f\"h={h}\\nm={m}\\ny={y}\")\n",
    "print(f\"number of minutes in an year= {d}*{h}*{m}={d*h*m}\")\n"
   ]
  },
  {
   "cell_type": "markdown",
   "id": "88558d2d-9b4d-4700-a980-bf64bdf62534",
   "metadata": {},
   "source": [
    "Write Python code that asks the user to enter his/her name and then output/prints his/her name with a greeting.\n",
    "An example runs of the program:\n",
    "Please enter you name: Tony\n",
    "Hi Tony, welcome to Python programming :)\n"
   ]
  },
  {
   "cell_type": "code",
   "execution_count": 2,
   "id": "7340d651-a42a-4dcd-a9af-6ec5cf36f269",
   "metadata": {},
   "outputs": [
    {
     "name": "stdin",
     "output_type": "stream",
     "text": [
      "Enter your name Jeeva\n"
     ]
    },
    {
     "name": "stdout",
     "output_type": "stream",
     "text": [
      "Hi,Jeeva, welcome to python programing\n"
     ]
    }
   ],
   "source": [
    "name=input(\"Enter your name\")\n",
    "print(f\"Hi,{name}, welcome to python programing\")"
   ]
  },
  {
   "cell_type": "markdown",
   "id": "2ff400dc-33db-4394-9274-acca65950b7b",
   "metadata": {},
   "source": [
    "Write a program that asks the user to enter an amount in pounds (£) and the program calculates and converts an amount in dollar ($)\n",
    "An example runs of the program:\n",
    "Please enter amount in pounds: XXX\n",
    "£ XXX are $ XXX"
   ]
  },
  {
   "cell_type": "code",
   "execution_count": 3,
   "id": "c0a5fda4-d6fc-4c15-8efe-17da4ae583a0",
   "metadata": {},
   "outputs": [
    {
     "name": "stdin",
     "output_type": "stream",
     "text": [
      "please enter amount in pounds: 5\n"
     ]
    },
    {
     "name": "stdout",
     "output_type": "stream",
     "text": [
      " 5.0 are $6.6000000000000005\n"
     ]
    }
   ],
   "source": [
    "pounds = float(input(\"please enter amount in pounds:\"))\n",
    "dollars=pounds*1.32\n",
    "print(f\" {pounds} are ${dollars}\")"
   ]
  },
  {
   "cell_type": "code",
   "execution_count": null,
   "id": "7f85f597-0248-48c8-a960-3700df29e4db",
   "metadata": {},
   "outputs": [],
   "source": []
  },
  {
   "cell_type": "code",
   "execution_count": null,
   "id": "fdc88741-daaa-484d-846e-9e52262babaf",
   "metadata": {},
   "outputs": [],
   "source": []
  }
 ],
 "metadata": {
  "kernelspec": {
   "display_name": "Python 3 (ipykernel)",
   "language": "python",
   "name": "python3"
  },
  "language_info": {
   "codemirror_mode": {
    "name": "ipython",
    "version": 3
   },
   "file_extension": ".py",
   "mimetype": "text/x-python",
   "name": "python",
   "nbconvert_exporter": "python",
   "pygments_lexer": "ipython3",
   "version": "3.9.12"
  }
 },
 "nbformat": 4,
 "nbformat_minor": 5
}
