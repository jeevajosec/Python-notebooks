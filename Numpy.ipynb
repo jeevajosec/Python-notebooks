{
 "cells": [
  {
   "cell_type": "code",
   "execution_count": 1,
   "id": "fabafff4-91af-450b-a7d5-637b24a15c4f",
   "metadata": {},
   "outputs": [],
   "source": [
    "import numpy as np\n"
   ]
  },
  {
   "cell_type": "code",
   "execution_count": 2,
   "id": "6e18c79e-d0ae-4b32-85a1-f6929cd85d94",
   "metadata": {},
   "outputs": [],
   "source": [
    "a=np.array([1,2,3,4,5])"
   ]
  },
  {
   "cell_type": "code",
   "execution_count": 3,
   "id": "974bd77b-c2ee-4bfc-8570-a1374135d53b",
   "metadata": {},
   "outputs": [
    {
     "name": "stdout",
     "output_type": "stream",
     "text": [
      "[1 2 3 4 5]\n"
     ]
    }
   ],
   "source": [
    "print(a)\n"
   ]
  },
  {
   "cell_type": "code",
   "execution_count": 4,
   "id": "0410363d-5bb4-4030-86ba-390e4fdd30bd",
   "metadata": {},
   "outputs": [
    {
     "data": {
      "text/plain": [
       "array([1, 2, 3, 4, 5])"
      ]
     },
     "execution_count": 4,
     "metadata": {},
     "output_type": "execute_result"
    }
   ],
   "source": [
    "a"
   ]
  },
  {
   "cell_type": "code",
   "execution_count": 5,
   "id": "922fbf45-4e7e-43ef-b208-e764b3d7f663",
   "metadata": {},
   "outputs": [],
   "source": [
    "b=np.array([[1,2,3],[4,5,6]])"
   ]
  },
  {
   "cell_type": "code",
   "execution_count": 7,
   "id": "1791b8fa-8337-4a20-8451-efc778fad884",
   "metadata": {},
   "outputs": [
    {
     "data": {
      "text/plain": [
       "(5,)"
      ]
     },
     "execution_count": 7,
     "metadata": {},
     "output_type": "execute_result"
    }
   ],
   "source": [
    "a.shape"
   ]
  },
  {
   "cell_type": "code",
   "execution_count": 8,
   "id": "9eaf57fc-c202-4e72-bf51-d0e4db7f1226",
   "metadata": {},
   "outputs": [
    {
     "data": {
      "text/plain": [
       "(2, 3)"
      ]
     },
     "execution_count": 8,
     "metadata": {},
     "output_type": "execute_result"
    }
   ],
   "source": [
    "b.shape"
   ]
  },
  {
   "cell_type": "code",
   "execution_count": 9,
   "id": "8fc04548-4a22-4fca-9a1d-66a20b6f3cfd",
   "metadata": {},
   "outputs": [
    {
     "data": {
      "text/plain": [
       "1"
      ]
     },
     "execution_count": 9,
     "metadata": {},
     "output_type": "execute_result"
    }
   ],
   "source": [
    "a.ndim"
   ]
  },
  {
   "cell_type": "code",
   "execution_count": 10,
   "id": "62427565-e6b5-4a96-8e70-073f09c528ff",
   "metadata": {},
   "outputs": [
    {
     "data": {
      "text/plain": [
       "2"
      ]
     },
     "execution_count": 10,
     "metadata": {},
     "output_type": "execute_result"
    }
   ],
   "source": [
    "b.ndim"
   ]
  },
  {
   "cell_type": "code",
   "execution_count": 12,
   "id": "16150c70-a608-46f2-8eff-3c105b15eaf9",
   "metadata": {},
   "outputs": [
    {
     "data": {
      "text/plain": [
       "dtype('int32')"
      ]
     },
     "execution_count": 12,
     "metadata": {},
     "output_type": "execute_result"
    }
   ],
   "source": [
    "a.dtype\n",
    "b.dtype"
   ]
  },
  {
   "cell_type": "code",
   "execution_count": 13,
   "id": "b5c1eee0-b1b9-4239-9fd1-67388dc89601",
   "metadata": {},
   "outputs": [],
   "source": [
    "z=np.array([1,2,3,4,5],dtype=float)"
   ]
  },
  {
   "cell_type": "code",
   "execution_count": 14,
   "id": "16d94346-af7f-45bb-9722-72a3016681a5",
   "metadata": {},
   "outputs": [
    {
     "data": {
      "text/plain": [
       "array([1., 2., 3., 4., 5.])"
      ]
     },
     "execution_count": 14,
     "metadata": {},
     "output_type": "execute_result"
    }
   ],
   "source": [
    "z"
   ]
  },
  {
   "cell_type": "code",
   "execution_count": 15,
   "id": "53c653ca-80a5-4efe-9f8d-e2778a4f7cd3",
   "metadata": {},
   "outputs": [
    {
     "data": {
      "text/plain": [
       "dtype('float64')"
      ]
     },
     "execution_count": 15,
     "metadata": {},
     "output_type": "execute_result"
    }
   ],
   "source": [
    "z.dtype"
   ]
  },
  {
   "cell_type": "code",
   "execution_count": 16,
   "id": "54fc5225-6949-42e1-9c0a-3947d62adf06",
   "metadata": {},
   "outputs": [
    {
     "name": "stdout",
     "output_type": "stream",
     "text": [
      "array addition: [3 4 5 6 7]\n"
     ]
    }
   ],
   "source": [
    "#array opertions\n",
    "print(\"array addition:\", a+2)"
   ]
  },
  {
   "cell_type": "code",
   "execution_count": 17,
   "id": "a51e9847-0c30-4a2a-97f9-67e3a2b2a0ab",
   "metadata": {},
   "outputs": [
    {
     "name": "stdout",
     "output_type": "stream",
     "text": [
      "array addition: [[3 4 5]\n",
      " [6 7 8]]\n"
     ]
    }
   ],
   "source": [
    "print(\"array addition:\", b+2)"
   ]
  },
  {
   "cell_type": "code",
   "execution_count": 18,
   "id": "a878c0b1-4589-4cdd-b8f1-813593ca047d",
   "metadata": {},
   "outputs": [
    {
     "name": "stdout",
     "output_type": "stream",
     "text": [
      "array addition: [ 2  4  6  8 10]\n"
     ]
    }
   ],
   "source": [
    "print(\"array addition:\", a*2)"
   ]
  },
  {
   "cell_type": "code",
   "execution_count": 20,
   "id": "14b40a8d-ea95-40a4-b057-024e2cfe874d",
   "metadata": {},
   "outputs": [
    {
     "data": {
      "text/plain": [
       "3.0"
      ]
     },
     "execution_count": 20,
     "metadata": {},
     "output_type": "execute_result"
    }
   ],
   "source": [
    "np.mean(a)"
   ]
  },
  {
   "cell_type": "code",
   "execution_count": 21,
   "id": "fd2601e8-fe47-42a2-818a-f153e535e9c2",
   "metadata": {},
   "outputs": [
    {
     "data": {
      "text/plain": [
       "1.707825127659933"
      ]
     },
     "execution_count": 21,
     "metadata": {},
     "output_type": "execute_result"
    }
   ],
   "source": [
    "np.std(b)"
   ]
  },
  {
   "cell_type": "code",
   "execution_count": 22,
   "id": "bad98c55-be33-4e96-a475-ad0709fa6600",
   "metadata": {},
   "outputs": [
    {
     "data": {
      "text/plain": [
       "3.5"
      ]
     },
     "execution_count": 22,
     "metadata": {},
     "output_type": "execute_result"
    }
   ],
   "source": [
    "np.mean(b)"
   ]
  },
  {
   "cell_type": "code",
   "execution_count": 23,
   "id": "b2a50444-0c02-451c-bb45-82e1504d6bac",
   "metadata": {},
   "outputs": [],
   "source": [
    "c=a.reshape(5,1)"
   ]
  },
  {
   "cell_type": "code",
   "execution_count": 24,
   "id": "5c72f74a-a9b1-4031-a8ce-24c68fcd0143",
   "metadata": {},
   "outputs": [
    {
     "data": {
      "text/plain": [
       "array([[1],\n",
       "       [2],\n",
       "       [3],\n",
       "       [4],\n",
       "       [5]])"
      ]
     },
     "execution_count": 24,
     "metadata": {},
     "output_type": "execute_result"
    }
   ],
   "source": [
    "c"
   ]
  },
  {
   "cell_type": "code",
   "execution_count": 25,
   "id": "f0bec73a-cebb-422d-89bb-1276ce46029a",
   "metadata": {},
   "outputs": [],
   "source": [
    "d=np.array([[1,2],[3,4],[5,6]])"
   ]
  },
  {
   "cell_type": "code",
   "execution_count": 26,
   "id": "93979b99-e859-48a4-a3d0-1dcb9beda1df",
   "metadata": {},
   "outputs": [
    {
     "data": {
      "text/plain": [
       "(3, 2)"
      ]
     },
     "execution_count": 26,
     "metadata": {},
     "output_type": "execute_result"
    }
   ],
   "source": [
    "d.shape"
   ]
  },
  {
   "cell_type": "code",
   "execution_count": 27,
   "id": "8bc9e87d-876d-4a5f-97f5-343863cbbfb3",
   "metadata": {},
   "outputs": [
    {
     "data": {
      "text/plain": [
       "array([[22, 28],\n",
       "       [49, 64]])"
      ]
     },
     "execution_count": 27,
     "metadata": {},
     "output_type": "execute_result"
    }
   ],
   "source": [
    "np.dot(b,d)"
   ]
  },
  {
   "cell_type": "code",
   "execution_count": 28,
   "id": "740c335f-123c-457c-8266-093913ff120d",
   "metadata": {},
   "outputs": [],
   "source": [
    "f=np.array([3,5,6,2,2])"
   ]
  },
  {
   "cell_type": "code",
   "execution_count": 29,
   "id": "09617df1-a23f-4d8b-acf4-8d04824229c3",
   "metadata": {},
   "outputs": [
    {
     "data": {
      "text/plain": [
       "49"
      ]
     },
     "execution_count": 29,
     "metadata": {},
     "output_type": "execute_result"
    }
   ],
   "source": [
    "np.dot(a,f)"
   ]
  },
  {
   "cell_type": "code",
   "execution_count": 32,
   "id": "a64e081b-66c6-4816-8bc0-afaa00b78dba",
   "metadata": {},
   "outputs": [
    {
     "data": {
      "text/plain": [
       "array([[0., 0., 0., 0., 0., 0.],\n",
       "       [0., 0., 0., 0., 0., 0.],\n",
       "       [0., 0., 0., 0., 0., 0.],\n",
       "       [0., 0., 0., 0., 0., 0.],\n",
       "       [0., 0., 0., 0., 0., 0.]])"
      ]
     },
     "execution_count": 32,
     "metadata": {},
     "output_type": "execute_result"
    }
   ],
   "source": [
    "np.zeros((5,6))"
   ]
  },
  {
   "cell_type": "code",
   "execution_count": 34,
   "id": "e10c7879-5005-4373-a1c8-ddbc346f367e",
   "metadata": {},
   "outputs": [
    {
     "data": {
      "text/plain": [
       "array([[1., 1., 1., 1., 1., 1., 1.],\n",
       "       [1., 1., 1., 1., 1., 1., 1.],\n",
       "       [1., 1., 1., 1., 1., 1., 1.]])"
      ]
     },
     "execution_count": 34,
     "metadata": {},
     "output_type": "execute_result"
    }
   ],
   "source": [
    "np.ones((3,7))"
   ]
  },
  {
   "cell_type": "code",
   "execution_count": 36,
   "id": "06d07b9b-a6cb-4450-8e58-770e86834987",
   "metadata": {},
   "outputs": [],
   "source": [
    "d=np.arange(0,100,5)"
   ]
  },
  {
   "cell_type": "code",
   "execution_count": 37,
   "id": "53724970-d203-4733-96a4-122ac67a2cb9",
   "metadata": {},
   "outputs": [
    {
     "data": {
      "text/plain": [
       "array([ 0,  5, 10, 15, 20, 25, 30, 35, 40, 45, 50, 55, 60, 65, 70, 75, 80,\n",
       "       85, 90, 95])"
      ]
     },
     "execution_count": 37,
     "metadata": {},
     "output_type": "execute_result"
    }
   ],
   "source": [
    "d"
   ]
  },
  {
   "cell_type": "code",
   "execution_count": 38,
   "id": "d6922430-31c6-4796-a6be-61cf171ccb18",
   "metadata": {},
   "outputs": [],
   "source": [
    "k=np.linspace(0,10,4)"
   ]
  },
  {
   "cell_type": "code",
   "execution_count": 39,
   "id": "626a4209-854d-4fb5-aa30-880c1c3ee9b8",
   "metadata": {},
   "outputs": [
    {
     "data": {
      "text/plain": [
       "array([ 0.        ,  3.33333333,  6.66666667, 10.        ])"
      ]
     },
     "execution_count": 39,
     "metadata": {},
     "output_type": "execute_result"
    }
   ],
   "source": [
    "k"
   ]
  },
  {
   "cell_type": "code",
   "execution_count": 40,
   "id": "fe9d680b-9798-427e-9b48-39c15cb74082",
   "metadata": {},
   "outputs": [],
   "source": [
    "r=np.random.rand(2,3)"
   ]
  },
  {
   "cell_type": "code",
   "execution_count": 41,
   "id": "36742aa3-2127-4f4f-8cce-c6c2a8eeb70f",
   "metadata": {},
   "outputs": [
    {
     "data": {
      "text/plain": [
       "array([[0.30987929, 0.31260357, 0.3259025 ],\n",
       "       [0.25441945, 0.3790453 , 0.16510981]])"
      ]
     },
     "execution_count": 41,
     "metadata": {},
     "output_type": "execute_result"
    }
   ],
   "source": [
    "r"
   ]
  },
  {
   "cell_type": "code",
   "execution_count": 44,
   "id": "f453c9af-9e22-47b1-840d-a386bd77a465",
   "metadata": {},
   "outputs": [],
   "source": [
    "y=np.concatenate((a,d))"
   ]
  },
  {
   "cell_type": "code",
   "execution_count": 45,
   "id": "2b8dd7b1-b8f5-4124-8d57-fcd3aa222795",
   "metadata": {},
   "outputs": [
    {
     "data": {
      "text/plain": [
       "array([ 1,  2,  3,  4,  5,  0,  5, 10, 15, 20, 25, 30, 35, 40, 45, 50, 55,\n",
       "       60, 65, 70, 75, 80, 85, 90, 95])"
      ]
     },
     "execution_count": 45,
     "metadata": {},
     "output_type": "execute_result"
    }
   ],
   "source": [
    "y"
   ]
  },
  {
   "cell_type": "code",
   "execution_count": 49,
   "id": "2479f241-e313-4dad-b483-ca86bb5a5185",
   "metadata": {},
   "outputs": [],
   "source": [
    "x=np.split(y,5)"
   ]
  },
  {
   "cell_type": "code",
   "execution_count": 50,
   "id": "4595946b-8e59-41d4-bf12-8b329daf7b36",
   "metadata": {},
   "outputs": [
    {
     "data": {
      "text/plain": [
       "[array([1, 2, 3, 4, 5]),\n",
       " array([ 0,  5, 10, 15, 20]),\n",
       " array([25, 30, 35, 40, 45]),\n",
       " array([50, 55, 60, 65, 70]),\n",
       " array([75, 80, 85, 90, 95])]"
      ]
     },
     "execution_count": 50,
     "metadata": {},
     "output_type": "execute_result"
    }
   ],
   "source": [
    "x"
   ]
  },
  {
   "cell_type": "code",
   "execution_count": null,
   "id": "43952e4b-611b-4041-9529-4b151bb1a5ee",
   "metadata": {},
   "outputs": [],
   "source": []
  }
 ],
 "metadata": {
  "kernelspec": {
   "display_name": "Python 3 (ipykernel)",
   "language": "python",
   "name": "python3"
  },
  "language_info": {
   "codemirror_mode": {
    "name": "ipython",
    "version": 3
   },
   "file_extension": ".py",
   "mimetype": "text/x-python",
   "name": "python",
   "nbconvert_exporter": "python",
   "pygments_lexer": "ipython3",
   "version": "3.9.12"
  }
 },
 "nbformat": 4,
 "nbformat_minor": 5
}
