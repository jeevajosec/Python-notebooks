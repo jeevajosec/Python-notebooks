{
 "cells": [
  {
   "cell_type": "markdown",
   "id": "76609682-95a5-456c-9187-28bab789de67",
   "metadata": {},
   "source": [
    "Exercise 1\n",
    "Name your file: MonthNames.py\n",
    "Write a program that reads an integer value between 1 and 12 from the user and prints output the corresponding month of the year."
   ]
  },
  {
   "cell_type": "code",
   "execution_count": 24,
   "id": "1a1903da-9d6b-4788-991c-d8a398e3de91",
   "metadata": {},
   "outputs": [],
   "source": [
    "months=[\"January\", \"February\", \"March\", \"April\", \"May\",\"June\",\"July\",\"August\", \"September\", \"October\", \"November\", \"December\"]"
   ]
  },
  {
   "cell_type": "code",
   "execution_count": 25,
   "id": "eab5cbed-a3df-4c66-bbe8-360a919aea8a",
   "metadata": {},
   "outputs": [
    {
     "name": "stdin",
     "output_type": "stream",
     "text": [
      "Enter an integer between 1 an 12: 5\n"
     ]
    }
   ],
   "source": [
    "n=int(input(\"Enter an integer between 1 an 12:\") )"
   ]
  },
  {
   "cell_type": "code",
   "execution_count": 26,
   "id": "cf87ad70-8ec2-40ac-b849-0068606c0acb",
   "metadata": {},
   "outputs": [
    {
     "name": "stdout",
     "output_type": "stream",
     "text": [
      " month 5 is May\n"
     ]
    }
   ],
   "source": [
    "if n<1 or n>12:\n",
    "        print(\"Entry error\")\n",
    "else:\n",
    "        print(f\" month {n} is {months[n-1]}\")    "
   ]
  },
  {
   "cell_type": "markdown",
   "id": "9432fb03-5448-4694-9da7-8cc93d5e9044",
   "metadata": {},
   "source": [
    "Exercise 2\n",
    "A certain cinema currently sells tickets for a full price of 6 pounds, but always sells tickets for half price to people who are less than 16 years old, and for a third of the price for people who are 60 years old or more.\n",
    "An example run of the program (numbers in bold are typed in by the user)"
   ]
  },
  {
   "cell_type": "code",
   "execution_count": 108,
   "id": "821d8b10-26a6-465d-9504-4cf7acc65d49",
   "metadata": {},
   "outputs": [
    {
     "name": "stdin",
     "output_type": "stream",
     "text": [
      "Enter your age: 12\n"
     ]
    }
   ],
   "source": [
    "age=int(input(\"Enter your age:\"))"
   ]
  },
  {
   "cell_type": "code",
   "execution_count": 105,
   "id": "81d93475-ccbd-4615-8576-2a223be18b9b",
   "metadata": {},
   "outputs": [
    {
     "name": "stdout",
     "output_type": "stream",
     "text": [
      "your ticket cost is 3 pounds\n"
     ]
    }
   ],
   "source": [
    "if age<16:\n",
    "    print(\"your ticket cost is 3 pounds\")\n",
    "elif age>=60:\n",
    "    print(\"your ticket cost is 2 pounds\")\n",
    "else:\n",
    "    print(\"your ticket cost is 36 pounds\")\n",
    "    "
   ]
  },
  {
   "cell_type": "markdown",
   "id": "ce74f07e-d45e-4c68-a831-2900f8fa6ba7",
   "metadata": {},
   "source": [
    "Exercise 3\n",
    "Name your file: BodyMassIndex.py\n",
    "Write a program to calculate your BMI and give weight status. Body Mass Index (BMI) is an internationally used measurement to check if you are a healthy weight for your height.The metric BMI formula accepts weight in kilograms and height in meters:\n",
    "BMI= weight(kg)/height2(m2)\n",
    "BMI Weight Status Categories table\n",
    "BMI range - kg/m2   Category\n",
    "Below 18.5                    Underweight\n",
    "18.5 -24.9         Normal\n",
    "25 - 29.9          Overweight\n",
    "30 & Above     Obese"
   ]
  },
  {
   "cell_type": "code",
   "execution_count": 38,
   "id": "ba0fdc5e-b0af-42af-b25e-d2ba8b46af73",
   "metadata": {},
   "outputs": [
    {
     "name": "stdin",
     "output_type": "stream",
     "text": [
      "Enter your weight in kg 53\n",
      "Enter your height in meter 1.63\n"
     ]
    }
   ],
   "source": [
    "weight=float(input(\"Enter your weight in kg\"))\n",
    "height=float(input(\"Enter your height in meter\"))"
   ]
  },
  {
   "cell_type": "code",
   "execution_count": 40,
   "id": "27663692-e52c-4dfa-a937-c08831925c40",
   "metadata": {},
   "outputs": [
    {
     "name": "stdout",
     "output_type": "stream",
     "text": [
      "Your BMI is 19.94805976890361\n",
      "You are in the “Normal\" range\n"
     ]
    }
   ],
   "source": [
    "BMI=weight/height**2\n",
    "print(f\"Your BMI is {BMI}\")\n",
    "if BMI<18.5:\n",
    "    print('You are in the “underweight\" range')\n",
    "elif BMI>=18.5 and BMI<25:\n",
    "    print('You are in the “Normal\" range')\n",
    "    \n",
    "elif BMI>=25 and BMI<30:\n",
    "    print('You are in the “overweight\" range')\n",
    "else:\n",
    "    print('You are in the “obese\" range')\n",
    "    "
   ]
  },
  {
   "cell_type": "markdown",
   "id": "cadae1aa-0fe2-478a-b125-338865f7534c",
   "metadata": {},
   "source": [
    "Exercise 4\n",
    "Write a Python program to receive 3 numbers from the user and print the greatest among them.\n"
   ]
  },
  {
   "cell_type": "code",
   "execution_count": 106,
   "id": "02597b0c-28ce-48da-aa16-cd01407a0b3e",
   "metadata": {},
   "outputs": [
    {
     "name": "stdin",
     "output_type": "stream",
     "text": [
      "Enter the first number:  9\n",
      "Enter the second number: 5\n",
      "Enter the third number:  3\n"
     ]
    }
   ],
   "source": [
    "num1 = (input(\"Enter the first number: \"))\n",
    "num2 = (input(\"Enter the second number:\"))\n",
    "num3 = (input(\"Enter the third number: \"))"
   ]
  },
  {
   "cell_type": "code",
   "execution_count": 107,
   "id": "07ffbe80-eab4-45fd-a3ce-1c73e0af6183",
   "metadata": {},
   "outputs": [
    {
     "name": "stdout",
     "output_type": "stream",
     "text": [
      "9 is largest\n"
     ]
    }
   ],
   "source": [
    "if num1>=num2:\n",
    "    if num1>=num3:\n",
    "        print(f\"{num1} is largest\")\n",
    "    else:\n",
    "        print(f\"{num3} is largest\")\n",
    "else:\n",
    "    if num3>=num2:\n",
    "        print(f\"{num3} is largest\")\n",
    "    else:\n",
    "        print(f\"{num2} is largest\")\n",
    "\n",
    "        "
   ]
  },
  {
   "cell_type": "markdown",
   "id": "d4f65bfa-1ed3-4b72-9317-79fe817e04e0",
   "metadata": {},
   "source": [
    "Exercise 5\n",
    "Find the factorial of a given number using loops(note the number is received from the user)"
   ]
  },
  {
   "cell_type": "code",
   "execution_count": 55,
   "id": "97d2d14f-9f2d-4733-bc98-ec8de3c10948",
   "metadata": {},
   "outputs": [
    {
     "name": "stdin",
     "output_type": "stream",
     "text": [
      "enter a non negative integer 5\n"
     ]
    },
    {
     "name": "stdout",
     "output_type": "stream",
     "text": [
      "5!=120\n"
     ]
    }
   ],
   "source": [
    "n=int(input(\"enter a non negative integer\"))\n",
    "i=1\n",
    "fact=1\n",
    "if n==0:\n",
    "    print(\"0!=1\")\n",
    "else:\n",
    "    while i<(n+1):\n",
    "        fact=fact*i\n",
    "        i=i+1\n",
    "print(f\"{n}!={fact}\")\n",
    "\n"
   ]
  },
  {
   "cell_type": "markdown",
   "id": "fe37a3b6-a348-4cb0-b2e2-3fa22dfe69ea",
   "metadata": {},
   "source": [
    "Exercise 6\n",
    "Reverse a number using while loop\n"
   ]
  },
  {
   "cell_type": "code",
   "execution_count": 71,
   "id": "a63b6bda-16d9-44b3-8087-5d44682704a7",
   "metadata": {},
   "outputs": [
    {
     "name": "stdin",
     "output_type": "stream",
     "text": [
      "Enter a number 89\n"
     ]
    }
   ],
   "source": [
    "n=int(input(\"Enter a number\"))"
   ]
  },
  {
   "cell_type": "code",
   "execution_count": 72,
   "id": "96ddc37f-b4a4-4a76-9702-29f0dff94653",
   "metadata": {},
   "outputs": [
    {
     "name": "stdout",
     "output_type": "stream",
     "text": [
      "98\n"
     ]
    }
   ],
   "source": [
    "num_rev=\"\"\n",
    "while(n>0):\n",
    "    rem=n%10\n",
    "    num_rev+=str(rem)\n",
    "    n=n//10\n",
    "print(num_rev)   "
   ]
  },
  {
   "cell_type": "markdown",
   "id": "ef0a37ab-e2a7-4c60-a8fc-86697b41e284",
   "metadata": {},
   "source": [
    "Exercise 7\n",
    "Finding the multiples of a number using loop"
   ]
  },
  {
   "cell_type": "code",
   "execution_count": 73,
   "id": "b35fe8d4-b538-46db-a8d7-cd01d2f5138a",
   "metadata": {},
   "outputs": [
    {
     "name": "stdin",
     "output_type": "stream",
     "text": [
      "Enter a number 5\n"
     ]
    }
   ],
   "source": [
    "x=int(input(\"Enter a number\"))"
   ]
  },
  {
   "cell_type": "code",
   "execution_count": 76,
   "id": "2534e2b8-fe36-4915-9f1f-ad8a17e7e88d",
   "metadata": {},
   "outputs": [
    {
     "name": "stdout",
     "output_type": "stream",
     "text": [
      "5\n",
      "10\n",
      "15\n",
      "20\n",
      "25\n",
      "30\n",
      "35\n",
      "40\n",
      "45\n",
      "50\n",
      "55\n",
      "60\n",
      "65\n",
      "70\n",
      "75\n",
      "80\n",
      "85\n",
      "90\n",
      "95\n",
      "100\n"
     ]
    }
   ],
   "source": [
    "\n",
    "for i in range(1,21):\n",
    "    print(x*i)\n",
    "    "
   ]
  },
  {
   "cell_type": "markdown",
   "id": "56244e70-c6d9-4aa3-bc6b-44444b246516",
   "metadata": {},
   "source": [
    "Exercise 8\n",
    "Write a program to print the inputted value as it is and break the loop if the value is 'done'."
   ]
  },
  {
   "cell_type": "code",
   "execution_count": 77,
   "id": "43b77471-079b-4867-a8ab-3f30bf49d60e",
   "metadata": {},
   "outputs": [
    {
     "name": "stdin",
     "output_type": "stream",
     "text": [
      "enter a value hi\n"
     ]
    }
   ],
   "source": [
    "value=input(\"enter a value\")"
   ]
  },
  {
   "cell_type": "code",
   "execution_count": 83,
   "id": "4435b91a-f043-4280-832c-4dd512fd225c",
   "metadata": {},
   "outputs": [
    {
     "name": "stdin",
     "output_type": "stream",
     "text": [
      "enter a value done\n"
     ]
    },
    {
     "name": "stdout",
     "output_type": "stream",
     "text": [
      "loop exit\n"
     ]
    }
   ],
   "source": [
    "while True:\n",
    "    value=input(\"enter a value\")\n",
    "    if value=='done':\n",
    "        break\n",
    "    else:\n",
    "        print(value)\n",
    "print(\"loop exit\")"
   ]
  },
  {
   "cell_type": "markdown",
   "id": "7d9b37b0-0561-41bd-ac51-67bc8d9aa6d6",
   "metadata": {},
   "source": [
    "Exercise 9\n",
    "Write a program that prints the numbers from 1 to 10. But for multiples of three print \"Fizz\" instead of the number and for the multiple of five print \"Buzz\". For numbers which are multiples of both three and five print \"FizzBuzz\""
   ]
  },
  {
   "cell_type": "code",
   "execution_count": 89,
   "id": "3cd32462-8e3c-4956-908c-8bf3ee1c009e",
   "metadata": {},
   "outputs": [
    {
     "name": "stdout",
     "output_type": "stream",
     "text": [
      "1\n",
      "2\n",
      "Fizz\n",
      "4\n",
      "Buzz\n",
      "Fizz\n",
      "7\n",
      "8\n",
      "Fizz\n",
      "Buzz\n"
     ]
    }
   ],
   "source": [
    "for i in range(1,11):\n",
    "    if i%3==0 and i%5==0:\n",
    "        print(\"FizzBuzz\")\n",
    "    elif i%3==0:\n",
    "        print(\"Fizz\")\n",
    "    elif i%5==0:\n",
    "        print(\"Buzz\")\n",
    "    else:\n",
    "        print(i)"
   ]
  },
  {
   "cell_type": "code",
   "execution_count": null,
   "id": "f836bb11-e71d-4656-99c9-2eca0be09eb7",
   "metadata": {},
   "outputs": [],
   "source": [
    "Exercise 10\n",
    "Write a program to print the following pattern:\n",
    "\n",
    "5 4 3 2 1\n",
    "4 3 2 1\n",
    "3 2 1\n",
    "2 1\n",
    "1\n"
   ]
  },
  {
   "cell_type": "code",
   "execution_count": 103,
   "id": "1169c7e8-1d49-48b2-a4bd-b234cfe05640",
   "metadata": {},
   "outputs": [
    {
     "name": "stdout",
     "output_type": "stream",
     "text": [
      "5 4 3 2 1 \n",
      "4 3 2 1 \n",
      "3 2 1 \n",
      "2 1 \n",
      "1 \n"
     ]
    }
   ],
   "source": [
    "\n",
    "for i in range(5,0,-1):\n",
    "    for j in range(i,0,-1):\n",
    "        print(j, end=\" \")\n",
    "    print(\"\")\n",
    "        \n",
    "        \n",
    "    "
   ]
  },
  {
   "cell_type": "code",
   "execution_count": null,
   "id": "7a010119-978c-4c9a-873c-6ca8537f6f1b",
   "metadata": {},
   "outputs": [],
   "source": []
  }
 ],
 "metadata": {
  "kernelspec": {
   "display_name": "Python 3 (ipykernel)",
   "language": "python",
   "name": "python3"
  },
  "language_info": {
   "codemirror_mode": {
    "name": "ipython",
    "version": 3
   },
   "file_extension": ".py",
   "mimetype": "text/x-python",
   "name": "python",
   "nbconvert_exporter": "python",
   "pygments_lexer": "ipython3",
   "version": "3.9.12"
  }
 },
 "nbformat": 4,
 "nbformat_minor": 5
}
