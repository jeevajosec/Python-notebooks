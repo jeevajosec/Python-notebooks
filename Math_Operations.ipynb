{
 "cells": [
  {
   "cell_type": "code",
   "execution_count": 1,
   "id": "1711454e-fe6c-4782-b852-1bc7607ece8b",
   "metadata": {},
   "outputs": [],
   "source": []
  },
  {
   "cell_type": "code",
   "execution_count": null,
   "id": "f5875ebe-f30f-49f3-82f5-6f77ea8cccf5",
   "metadata": {},
   "outputs": [],
   "source": [
    "pi=3.14\n",
    "#area of a circle\n",
    "def area_circle(r):\n",
    "    area=pi*r*r\n",
    "    return area\n",
    "\n",
    "#area of a rectangle\n",
    "def area_rectangle(l,b):\n",
    "    area=l*b\n",
    "    return area\n",
    "\n",
    "#the area of a triangle.\n",
    "def area_triangle(b,h):\n",
    "    area=(b*h)/2\n",
    "    return area\n",
    "\n"
   ]
  }
 ],
 "metadata": {
  "kernelspec": {
   "display_name": "Python 3 (ipykernel)",
   "language": "python",
   "name": "python3"
  },
  "language_info": {
   "codemirror_mode": {
    "name": "ipython",
    "version": 3
   },
   "file_extension": ".py",
   "mimetype": "text/x-python",
   "name": "python",
   "nbconvert_exporter": "python",
   "pygments_lexer": "ipython3",
   "version": "3.9.12"
  }
 },
 "nbformat": 4,
 "nbformat_minor": 5
}
