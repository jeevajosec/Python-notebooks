{
 "cells": [
  {
   "cell_type": "markdown",
   "id": "fca49600-391d-431d-ab96-fef849205476",
   "metadata": {},
   "source": [
    "Exercise (score : 1) \n",
    "Q1. Create a list of 5 random numbers and print the list.\n",
    "Q2. Insert 3 new values to the list and print the updated list.\n",
    "Q3. Access the third element in the list and print the element.\n",
    "Q4. Create a new list of 3 random strings and concatenate the two lists into a third list.\n",
    "Q5. Try to use a for loop to print each element in the list."
   ]
  },
  {
   "cell_type": "code",
   "execution_count": 33,
   "id": "2fbeec5a-b81b-4950-9faf-ffa4debacfe6",
   "metadata": {},
   "outputs": [
    {
     "name": "stdout",
     "output_type": "stream",
     "text": [
      "[5, 23, 17, 42, 9]\n"
     ]
    }
   ],
   "source": [
    "l1=[5,23,17,42,9]\n",
    "print(l1)"
   ]
  },
  {
   "cell_type": "code",
   "execution_count": 7,
   "id": "5455df38-809c-464f-86b2-a4f717bff6b2",
   "metadata": {},
   "outputs": [],
   "source": [
    "l1.append(79)\n",
    "l1.append(13)\n",
    "l1.append(98)"
   ]
  },
  {
   "cell_type": "code",
   "execution_count": 8,
   "id": "8ecdcbdd-7eec-4ec6-984b-d45394c67247",
   "metadata": {},
   "outputs": [
    {
     "name": "stdout",
     "output_type": "stream",
     "text": [
      "[5, 23, 17, 42, 9, 79, 13, 98]\n"
     ]
    }
   ],
   "source": [
    "print(l1)"
   ]
  },
  {
   "cell_type": "code",
   "execution_count": 10,
   "id": "64922743-0980-4222-9084-9ce36cdbcce2",
   "metadata": {},
   "outputs": [
    {
     "name": "stdout",
     "output_type": "stream",
     "text": [
      "17\n"
     ]
    }
   ],
   "source": [
    "print(l1[2])"
   ]
  },
  {
   "cell_type": "code",
   "execution_count": 11,
   "id": "2e04be00-4128-4b8b-8e98-8b54d221ca75",
   "metadata": {},
   "outputs": [],
   "source": [
    "l2=[21,31,41]"
   ]
  },
  {
   "cell_type": "code",
   "execution_count": 12,
   "id": "6976a528-02d2-4e1c-a036-7768f3892ee6",
   "metadata": {},
   "outputs": [],
   "source": [
    "l3=l1+l2"
   ]
  },
  {
   "cell_type": "code",
   "execution_count": 13,
   "id": "8b38dbfc-8b66-4b28-984d-3b824f488eae",
   "metadata": {},
   "outputs": [
    {
     "name": "stdout",
     "output_type": "stream",
     "text": [
      "[5, 23, 17, 42, 9, 79, 13, 98, 21, 31, 41]\n"
     ]
    }
   ],
   "source": [
    "print(l3)"
   ]
  },
  {
   "cell_type": "code",
   "execution_count": 14,
   "id": "b74161a4-c880-4841-8758-884cce13e7dc",
   "metadata": {},
   "outputs": [
    {
     "name": "stdout",
     "output_type": "stream",
     "text": [
      "5\n",
      "23\n",
      "17\n",
      "42\n",
      "9\n",
      "79\n",
      "13\n",
      "98\n",
      "21\n",
      "31\n",
      "41\n"
     ]
    }
   ],
   "source": [
    "for a in l3:\n",
    "    print(a)"
   ]
  },
  {
   "cell_type": "markdown",
   "id": "346f747b-ce78-4c4c-880c-d53eca207a95",
   "metadata": {},
   "source": [
    "Topic : Dictionary \n",
    "Exercise (score : 1) \n",
    "Q1. Create a dictionary with keys 'name', 'age', and 'address' and values 'John', 25, and 'New York' respectively.\n",
    "Q2. Add a new key-value pair to the dictionary created in Q1 with key 'phone' and value '1234567890'.\n",
    "Q3. Remove the key 'address' from the dictionary created in Q1.\n",
    "Q4.  Print the value of the key 'age' from the dictionary created in Q1.\n",
    "Q5. Check if the key 'phone' exists in the dictionary created in Q1."
   ]
  },
  {
   "cell_type": "code",
   "execution_count": 15,
   "id": "a0f3728e-b9d4-45b2-90dd-92d3b76d6bd5",
   "metadata": {},
   "outputs": [],
   "source": [
    "D1={'name':'John','age':25,'address':'Newyork'}"
   ]
  },
  {
   "cell_type": "code",
   "execution_count": 18,
   "id": "46f5d3e8-964e-4cb6-ab48-b304f5907edb",
   "metadata": {},
   "outputs": [],
   "source": [
    "D1['phone']=1234567890"
   ]
  },
  {
   "cell_type": "code",
   "execution_count": 20,
   "id": "83a98ffb-d9de-4409-a607-934430230daa",
   "metadata": {},
   "outputs": [],
   "source": [
    "del D1['address']"
   ]
  },
  {
   "cell_type": "code",
   "execution_count": 21,
   "id": "88a21786-e53f-4bd5-b103-e6c201264e6d",
   "metadata": {},
   "outputs": [
    {
     "name": "stdout",
     "output_type": "stream",
     "text": [
      "25\n"
     ]
    }
   ],
   "source": [
    "print(D1['age'])"
   ]
  },
  {
   "cell_type": "code",
   "execution_count": 23,
   "id": "64f304b7-9e10-40c8-93e9-18c44317a74c",
   "metadata": {},
   "outputs": [
    {
     "name": "stdout",
     "output_type": "stream",
     "text": [
      "True\n"
     ]
    }
   ],
   "source": [
    "print('phone' in D1)"
   ]
  },
  {
   "cell_type": "markdown",
   "id": "3a43bb69-c10a-40b3-86b2-cf3548e494a5",
   "metadata": {},
   "source": [
    "Topic: Set\n",
    "Exercise (score : 1) \n",
    "Q1.Create a set with values 1, 2, 3, 4, and 5.\n",
    "Q2. Add the value 6 to the set created in Q1.\n",
    "Q3. Remove the value 3 from the set created in Q1.\n",
    "Q4. Print the length of the set created in Q1.\n",
    "Q5. Create a new set by union of the set created in Q1 with another set {6, 7, 8}.\n"
   ]
  },
  {
   "cell_type": "code",
   "execution_count": 24,
   "id": "56a39b9c-4d70-4ae4-899f-322316c81bec",
   "metadata": {},
   "outputs": [],
   "source": [
    "s1={1,2,3,4,5}"
   ]
  },
  {
   "cell_type": "code",
   "execution_count": 25,
   "id": "33c5da10-a21e-41db-86f1-ddd281293c2a",
   "metadata": {},
   "outputs": [],
   "source": [
    "s1.add(6)"
   ]
  },
  {
   "cell_type": "code",
   "execution_count": 26,
   "id": "bbed4426-8dac-4a73-9df0-4aee5aa4aa8a",
   "metadata": {},
   "outputs": [],
   "source": [
    "s1.remove(3)"
   ]
  },
  {
   "cell_type": "code",
   "execution_count": 27,
   "id": "6de61adb-6504-46d9-929b-bfc5f160d222",
   "metadata": {},
   "outputs": [
    {
     "name": "stdout",
     "output_type": "stream",
     "text": [
      "5\n"
     ]
    }
   ],
   "source": [
    "print(len(s1))"
   ]
  },
  {
   "cell_type": "code",
   "execution_count": 31,
   "id": "e8f69d50-f781-4d08-b10f-c3d74c7362ab",
   "metadata": {},
   "outputs": [],
   "source": [
    "s2={6,7,8}\n",
    "s3=s1.union (s2)"
   ]
  },
  {
   "cell_type": "code",
   "execution_count": 32,
   "id": "1a1d95dc-03cc-43f9-9564-f94b451c4a82",
   "metadata": {},
   "outputs": [
    {
     "name": "stdout",
     "output_type": "stream",
     "text": [
      "{1, 2, 4, 5, 6, 7, 8}\n"
     ]
    }
   ],
   "source": [
    "print(s3)"
   ]
  },
  {
   "cell_type": "markdown",
   "id": "41b39921-cb72-4461-88c8-1feb6f588651",
   "metadata": {},
   "source": [
    "Topic: Tuple\n",
    "\n",
    "Exercise (score : 1) \n",
    "Q1. Create a tuple with values 1, 2, 3, and 4\n",
    "Q2. Print the length of the tuple created in Q1.\n",
    "Q3. Create a new tuple by concatenating the tuple from Q1 with another tuple (5, 6).\n",
    "Q4. Print the first two values of the tuple created in Q3.\n",
    "Q5. Check if the value 4 exists in the tuple created in Q1."
   ]
  },
  {
   "cell_type": "code",
   "execution_count": 35,
   "id": "ac10a2a1-0f64-490b-b08c-ac004d91ece2",
   "metadata": {},
   "outputs": [],
   "source": [
    "t1=(1,2,3,4)"
   ]
  },
  {
   "cell_type": "code",
   "execution_count": 36,
   "id": "a464d92d-907a-4e1c-a0d7-10a7689c79d1",
   "metadata": {},
   "outputs": [
    {
     "name": "stdout",
     "output_type": "stream",
     "text": [
      "4\n"
     ]
    }
   ],
   "source": [
    "print(len(t1))"
   ]
  },
  {
   "cell_type": "code",
   "execution_count": 44,
   "id": "f4140df3-bdd2-4a31-93ce-f45a4098f9a6",
   "metadata": {},
   "outputs": [],
   "source": [
    "t2=t1+(5,6)"
   ]
  },
  {
   "cell_type": "code",
   "execution_count": 45,
   "id": "db1a494f-06f0-42a5-add0-414f7b15f74a",
   "metadata": {},
   "outputs": [
    {
     "data": {
      "text/plain": [
       "(1, 2, 3, 4, 5, 6)"
      ]
     },
     "execution_count": 45,
     "metadata": {},
     "output_type": "execute_result"
    }
   ],
   "source": [
    "t2"
   ]
  },
  {
   "cell_type": "code",
   "execution_count": 46,
   "id": "92e1436a-35c8-459d-9c56-fc22acb9401a",
   "metadata": {},
   "outputs": [
    {
     "name": "stdout",
     "output_type": "stream",
     "text": [
      "1 2\n"
     ]
    }
   ],
   "source": [
    "print(t2[0],t2[1])"
   ]
  },
  {
   "cell_type": "code",
   "execution_count": 47,
   "id": "7d3392a9-2c1a-4fe4-903e-c0f33275a551",
   "metadata": {},
   "outputs": [
    {
     "name": "stdout",
     "output_type": "stream",
     "text": [
      "True\n"
     ]
    }
   ],
   "source": [
    "print(4 in t1)"
   ]
  },
  {
   "cell_type": "code",
   "execution_count": null,
   "id": "b47240c4-4712-4958-81a2-0233c0300089",
   "metadata": {},
   "outputs": [],
   "source": [
    "Topic : String, List -set-dictionary comprehension\n",
    "Exercise 1 (score : 2) \n",
    "Write a program that asks the user to enter his/her full name and the program process and manipulate the text of his/her name.\n",
    "An example run of the program (numbers in bold are typed in by the user)\n",
    "Please enter your first name: Peter\n",
    "Please enter your last name: Cambridge\n",
    "Your full name is PETER CAMBRIDGE\n",
    "Your initials are P C\n",
    "First name length is 5 letters\n",
    "Last name length is 9 letters\n",
    "Full name length is 14 letters\n",
    "First name starts with P\n",
    "First name ends with R\n",
    "Last name starts with C\n",
    "Last name ends with E\n",
    "First name indexes are 0 – 4\n",
    "Last name indexes are 0 – 8\n",
    "First name trims 1 Pet\n",
    "First name trims 2 eter\n",
    "Last name trims 1 Cam\n",
    "Last name trims 2 bridge\n",
    "\n",
    "Exercise 2 (score : 1) \n",
    "Write a program that asks the user to enter his/her name and then partly encrypt and display it.\n",
    "Name: John\n",
    "Encrypted name : J**n\n",
    "\n",
    "Exercise 3 (score : 1) \n",
    "Write a Python program to count the number of strings where the string length is 2 or more and the first and last character are same from a given list of strings\n",
    "Sample List : ['abc', 'xyz', 'aba', '1221']\n",
    "Expected Result : 2\n",
    "\n",
    "Exercise 4 (score : 1) \n",
    "Find all of the numbers from 1-1000 that are divisible by 7 using list comprehension.\n",
    "\n",
    "Exercise 5 (score : 1) \n",
    "Create dictionary from a list where the keys are the elements of the list and value of the dictionary is result after dividing the element by 3"
   ]
  },
  {
   "cell_type": "code",
   "execution_count": 3,
   "id": "a76c26a3-6fb0-4c0f-9468-56a70c067c23",
   "metadata": {},
   "outputs": [
    {
     "name": "stdin",
     "output_type": "stream",
     "text": [
      "Please enter your first name jeeva\n",
      "Please enter your last name jose\n"
     ]
    },
    {
     "name": "stdout",
     "output_type": "stream",
     "text": [
      "your full name is JEEVA JOSE\n",
      "ypour initials are J J\n"
     ]
    }
   ],
   "source": [
    "first=input(\"Please enter your first name\")\n",
    "last=input(\"Please enter your last name\")\n",
    "print(f\"your full name is {first.upper()+' '+ last.upper()}\")\n",
    "print(f\"ypour initials are {first[0].upper()} {last[0].upper()}\")"
   ]
  },
  {
   "cell_type": "code",
   "execution_count": 51,
   "id": "e23a80b3-e886-437c-9ad5-7ebac764d003",
   "metadata": {},
   "outputs": [
    {
     "name": "stdout",
     "output_type": "stream",
     "text": [
      "jeeva\n"
     ]
    }
   ],
   "source": [
    "print(first)"
   ]
  },
  {
   "cell_type": "code",
   "execution_count": 7,
   "id": "459d108f-de98-412b-861a-b754788f9b5c",
   "metadata": {},
   "outputs": [
    {
     "name": "stdout",
     "output_type": "stream",
     "text": [
      "ypour initials are J J\n",
      "First name length is 5 letters\n",
      "Last name length is 4 letters\n",
      "First name starts with J\n",
      "Last name starts with J\n",
      "First name ends with A\n",
      "Last name ends with E\n",
      "First name indexes are 0 – 4\n",
      "Last name indexes are 0 - 3\n",
      "First name trims 1 jee\n",
      "First name trims 2 eeva\n",
      "Last name trims 1 jos\n",
      "Last name trims 2 e\n"
     ]
    }
   ],
   "source": [
    "print(f\"ypour initials are {first[0].upper()} {last[0].upper()}\")\n",
    "print(f\"First name length is {len(first)} letters\")\n",
    "print(f\"Last name length is {len(last)} letters\")\n",
    "print(f\"First name starts with {first[0].upper()}\")\n",
    "print(f\"Last name starts with {last[0].upper()}\")\n",
    "print(f\"First name ends with {first[-1].upper()}\")\n",
    "print(f\"Last name ends with {last[-1].upper()}\")\n",
    "print(f\"First name indexes are 0 – {first.index(first[-1])}\")\n",
    "print(f\"Last name indexes are 0 - {last.index(last[-1])}\")\n",
    "print(f\"First name trims 1 {first[:3]}\")\n",
    "print(f\"First name trims 2 {first[1:]}\")\n",
    "print(f\"Last name trims 1 {last[:3]}\")\n",
    "print(f\"Last name trims 2 {last[3:]}\")\n"
   ]
  },
  {
   "cell_type": "markdown",
   "id": "718a712b-a658-40f0-ba70-47ac566734b9",
   "metadata": {},
   "source": [
    "Write a program that asks the user to enter his/her name and then partly encrypt and display it."
   ]
  },
  {
   "cell_type": "code",
   "execution_count": 25,
   "id": "05f360ed-618f-493c-b51a-a52b11a0c7b4",
   "metadata": {},
   "outputs": [
    {
     "name": "stdin",
     "output_type": "stream",
     "text": [
      "Enter your name jeeva\n"
     ]
    },
    {
     "name": "stdout",
     "output_type": "stream",
     "text": [
      " j***a\n"
     ]
    }
   ],
   "source": [
    "name=input(\"Enter your name\")\n",
    "name_encrypted=\" \"\n",
    "for index, i in enumerate(name):\n",
    "    if i==name[0] or i==name[len(name)-1]:\n",
    "        name_encrypted+=i\n",
    "    else:\n",
    "        name_encrypted+=\"*\"\n",
    "print(name_encrypted)"
   ]
  },
  {
   "cell_type": "markdown",
   "id": "3fa0b62f-a563-4fc5-aaca-fa6f2245daac",
   "metadata": {},
   "source": [
    "Write a Python program to count the number of strings where the string length is 2 or more and the first and last character are same from a given list of strings"
   ]
  },
  {
   "cell_type": "code",
   "execution_count": 26,
   "id": "81381e08-a456-4e3a-ac22-849afbe47b76",
   "metadata": {},
   "outputs": [],
   "source": [
    "L=[\"hello\", \"hi\", \"aba\",\"565\",\"loyal\", \"kk\", \"Jeeva\"]"
   ]
  },
  {
   "cell_type": "code",
   "execution_count": 28,
   "id": "f71c71ab-da45-473a-9579-0902295a22d4",
   "metadata": {},
   "outputs": [
    {
     "name": "stdout",
     "output_type": "stream",
     "text": [
      "number of strings where the string length is 2 or more and the first and last character are same is 3\n"
     ]
    }
   ],
   "source": [
    "count=0\n",
    "for i in L:\n",
    "    if len(i)>2 and i[0]==i[-1]:\n",
    "        count+=1\n",
    "print(f\"number of strings where the string length is 2 or more and the first and last character are same is {count}\") "
   ]
  },
  {
   "cell_type": "markdown",
   "id": "b9e1c630-fb5f-40eb-8ab9-786e45c8677f",
   "metadata": {},
   "source": [
    "Find all of the numbers from 1-1000 that are divisible by 7 using list comprehension."
   ]
  },
  {
   "cell_type": "code",
   "execution_count": 30,
   "id": "79b19f6c-99d9-49c8-a2b4-2edc8be36916",
   "metadata": {},
   "outputs": [
    {
     "name": "stdout",
     "output_type": "stream",
     "text": [
      "[7, 14, 21, 28, 35, 42, 49, 56, 63, 70, 77, 84, 91, 98, 105, 112, 119, 126, 133, 140, 147, 154, 161, 168, 175, 182, 189, 196, 203, 210, 217, 224, 231, 238, 245, 252, 259, 266, 273, 280, 287, 294, 301, 308, 315, 322, 329, 336, 343, 350, 357, 364, 371, 378, 385, 392, 399, 406, 413, 420, 427, 434, 441, 448, 455, 462, 469, 476, 483, 490, 497, 504, 511, 518, 525, 532, 539, 546, 553, 560, 567, 574, 581, 588, 595, 602, 609, 616, 623, 630, 637, 644, 651, 658, 665, 672, 679, 686, 693, 700, 707, 714, 721, 728, 735, 742, 749, 756, 763, 770, 777, 784, 791, 798, 805, 812, 819, 826, 833, 840, 847, 854, 861, 868, 875, 882, 889, 896, 903, 910, 917, 924, 931, 938, 945, 952, 959, 966, 973, 980, 987, 994]\n"
     ]
    }
   ],
   "source": [
    "l=[]\n",
    "for i in range(1000):\n",
    "    if (i+1)%7==0:\n",
    "        l.append(i+1)\n",
    "\n",
    "print(l)\n",
    "        "
   ]
  },
  {
   "cell_type": "markdown",
   "id": "8f35f890-1139-44c4-b81c-17c5887ecf63",
   "metadata": {},
   "source": [
    "Create dictionary from a list where the keys are the elements of the list and value of the dictionary is result after dividing the element by 3"
   ]
  },
  {
   "cell_type": "code",
   "execution_count": 33,
   "id": "7e01612b-8c38-4c1b-b62a-1e15f5d63bb5",
   "metadata": {},
   "outputs": [
    {
     "name": "stdout",
     "output_type": "stream",
     "text": [
      "{3: 1.0, 9: 3.0, 56: 18.666666666666668, 25: 8.333333333333334, 87: 29.0, 45: 15.0, 21: 7.0, 41: 13.666666666666666, 33: 11.0, 81: 27.0}\n"
     ]
    }
   ],
   "source": [
    "l=[3,9,56,25,87,45,21,41,33,56,81]\n",
    "D=dict()\n",
    "for i in l:\n",
    "    D[i]=i/3\n",
    "print(D)\n"
   ]
  },
  {
   "cell_type": "code",
   "execution_count": null,
   "id": "25c2a507-9102-4156-8976-b3c2a071359c",
   "metadata": {},
   "outputs": [],
   "source": []
  }
 ],
 "metadata": {
  "kernelspec": {
   "display_name": "Python 3 (ipykernel)",
   "language": "python",
   "name": "python3"
  },
  "language_info": {
   "codemirror_mode": {
    "name": "ipython",
    "version": 3
   },
   "file_extension": ".py",
   "mimetype": "text/x-python",
   "name": "python",
   "nbconvert_exporter": "python",
   "pygments_lexer": "ipython3",
   "version": "3.9.12"
  }
 },
 "nbformat": 4,
 "nbformat_minor": 5
}
