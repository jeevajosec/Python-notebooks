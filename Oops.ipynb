{
 "cells": [
  {
   "cell_type": "code",
   "execution_count": 1,
   "id": "1f9a4a98-5373-4bfa-8cde-1831662d155a",
   "metadata": {},
   "outputs": [],
   "source": [
    "class Car:\n",
    "    def __init__(self, make, model, year):\n",
    "        self.make=make\n",
    "        self.model=model\n",
    "        self.year=year\n",
    "        self.odometer=0\n",
    "\n",
    "    def describe(self):\n",
    "        return f\"{self.year} {self.make} {self.model}\"\n",
    "\n",
    "    def drive(self, distance):\n",
    "        self.odometer += distance\n",
    "        return f\"Drove {distance} km. Total {self.odometer} km\"\n",
    "        "
   ]
  },
  {
   "cell_type": "code",
   "execution_count": 2,
   "id": "1b54743b-85a1-4dfa-a783-cf15fbda2e95",
   "metadata": {},
   "outputs": [],
   "source": [
    "my_car= Car(\"Toyota\", \"Corolla\", 2022)"
   ]
  },
  {
   "cell_type": "code",
   "execution_count": 3,
   "id": "c998c067-e233-43dc-9ab6-bd85b5792cd6",
   "metadata": {},
   "outputs": [
    {
     "name": "stdout",
     "output_type": "stream",
     "text": [
      "2022 Toyota Corolla\n"
     ]
    }
   ],
   "source": [
    "print(my_car.describe())"
   ]
  },
  {
   "cell_type": "code",
   "execution_count": 4,
   "id": "febc9570-6e83-4086-ad4f-69a2bb5bf46f",
   "metadata": {},
   "outputs": [],
   "source": [
    "car_1=Car(\"Honda\",\"Amaze\",2020)"
   ]
  },
  {
   "cell_type": "code",
   "execution_count": 6,
   "id": "b738f634-33ab-4c5b-a24d-4df9b4974088",
   "metadata": {},
   "outputs": [
    {
     "name": "stdout",
     "output_type": "stream",
     "text": [
      "2020 Honda Amaze\n"
     ]
    }
   ],
   "source": [
    "print(car_1.describe())"
   ]
  },
  {
   "cell_type": "code",
   "execution_count": 7,
   "id": "5783ac10-d655-4699-afb8-cfadb36880af",
   "metadata": {},
   "outputs": [
    {
     "name": "stdout",
     "output_type": "stream",
     "text": [
      "Drove 50 km. Total 50 km\n",
      "Drove 100 km. Total 100 km\n"
     ]
    }
   ],
   "source": [
    "print(my_car.drive(50))\n",
    "print(car_1.drive(100))"
   ]
  },
  {
   "cell_type": "code",
   "execution_count": 8,
   "id": "83c9aa98-8713-4465-b56c-327c1447b5b7",
   "metadata": {},
   "outputs": [
    {
     "name": "stdout",
     "output_type": "stream",
     "text": [
      "Drove 50 km. Total 100 km\n"
     ]
    }
   ],
   "source": [
    "print(my_car.drive(50))"
   ]
  },
  {
   "cell_type": "code",
   "execution_count": 9,
   "id": "31d45972-851c-499a-bbe2-7d4746f67efc",
   "metadata": {},
   "outputs": [],
   "source": [
    "class Vehicle:\n",
    "    def __init__(self, make, model, year):\n",
    "        self.make=make\n",
    "        self.model=model\n",
    "        self.year=year\n",
    "\n",
    "    def start_engine(self):\n",
    "        return \"The vehicle engine ois starting\"\n",
    "\n",
    "    def describe(self):\n",
    "        return  f\"{self.year} {self.make} {self.model}\"\n",
    "        "
   ]
  },
  {
   "cell_type": "code",
   "execution_count": 10,
   "id": "aab7773f-a070-4e0b-8049-791e026ad14b",
   "metadata": {},
   "outputs": [],
   "source": [
    "class Car(Vehicle):\n",
    "    def __init__(self, make, model, year, fuel_type):\n",
    "        super().__init__(make,model,year)\n",
    "        self.fuel_type=fuel_type"
   ]
  },
  {
   "cell_type": "code",
   "execution_count": 11,
   "id": "1211faa0-4aee-4593-89b3-bed8bf0c955b",
   "metadata": {},
   "outputs": [],
   "source": [
    "class ElectricCar(Vehicle):\n",
    "    def __init__(self, make, model, year, battery_capacity):\n",
    "        super().__init__(make,model,year)\n",
    "        self.battery_capacity=battery_capacity"
   ]
  },
  {
   "cell_type": "code",
   "execution_count": 16,
   "id": "f932c352-733d-4f09-abab-e075c7df0ddc",
   "metadata": {},
   "outputs": [],
   "source": [
    "regular_car=Car(\"totta\", \"mas\",3232, \"diesel\")\n",
    "electric_car=ElectricCar(\"tesl\",\"ghdhhd\", 12, 100)"
   ]
  },
  {
   "cell_type": "code",
   "execution_count": 17,
   "id": "ffd5c539-f426-4821-8e8c-65e5560e9b8a",
   "metadata": {},
   "outputs": [
    {
     "data": {
      "text/plain": [
       "'3232 totta mas'"
      ]
     },
     "execution_count": 17,
     "metadata": {},
     "output_type": "execute_result"
    }
   ],
   "source": [
    "regular_car.describe()"
   ]
  },
  {
   "cell_type": "code",
   "execution_count": 18,
   "id": "470f2489-d9bf-4166-9678-0037cf5680b0",
   "metadata": {},
   "outputs": [
    {
     "data": {
      "text/plain": [
       "'The vehicle engine ois starting'"
      ]
     },
     "execution_count": 18,
     "metadata": {},
     "output_type": "execute_result"
    }
   ],
   "source": [
    "regular_car.start_engine()"
   ]
  },
  {
   "cell_type": "code",
   "execution_count": null,
   "id": "7ed0008c-f554-4d88-a04f-bb4b7553ea52",
   "metadata": {},
   "outputs": [],
   "source": []
  }
 ],
 "metadata": {
  "kernelspec": {
   "display_name": "Python 3 (ipykernel)",
   "language": "python",
   "name": "python3"
  },
  "language_info": {
   "codemirror_mode": {
    "name": "ipython",
    "version": 3
   },
   "file_extension": ".py",
   "mimetype": "text/x-python",
   "name": "python",
   "nbconvert_exporter": "python",
   "pygments_lexer": "ipython3",
   "version": "3.9.12"
  }
 },
 "nbformat": 4,
 "nbformat_minor": 5
}
