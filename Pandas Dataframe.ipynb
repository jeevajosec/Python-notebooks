{
 "cells": [
  {
   "cell_type": "code",
   "execution_count": 2,
   "id": "3c2d3511-bb21-4535-9a0b-7aa8152decde",
   "metadata": {},
   "outputs": [],
   "source": [
    "import pandas as pd\n",
    "import numpy as np"
   ]
  },
  {
   "cell_type": "code",
   "execution_count": 3,
   "id": "f35eac70-9ccf-45e0-a807-400cd1949f8e",
   "metadata": {},
   "outputs": [],
   "source": [
    "# Creating a DataFrame\n",
    "data = {\n",
    "    'Name': ['Alice', 'Bob', 'Charlie', 'David', 'Eva'],\n",
    "    'Age': [25, 30, 35, 28, 22],\n",
    "    'City': ['New York', 'San Francisco', 'Los Angeles', 'Chicago', 'Boston'],\n",
    "    'Salary': [50000, 70000, 80000, 65000, 45000]\n",
    "}"
   ]
  },
  {
   "cell_type": "code",
   "execution_count": 4,
   "id": "5c28980c-23fd-475a-a200-36143a7ddea0",
   "metadata": {},
   "outputs": [
    {
     "name": "stdout",
     "output_type": "stream",
     "text": [
      "Original DataFrame:\n",
      "      Name  Age           City  Salary\n",
      "0    Alice   25       New York   50000\n",
      "1      Bob   30  San Francisco   70000\n",
      "2  Charlie   35    Los Angeles   80000\n",
      "3    David   28        Chicago   65000\n",
      "4      Eva   22         Boston   45000\n"
     ]
    }
   ],
   "source": [
    "df = pd.DataFrame(data)\n",
    "print(\"Original DataFrame:\")\n",
    "print(df)"
   ]
  },
  {
   "cell_type": "code",
   "execution_count": 5,
   "id": "a5fc876b-15ef-4343-8574-efdc65d8a50e",
   "metadata": {},
   "outputs": [
    {
     "name": "stdout",
     "output_type": "stream",
     "text": [
      "\n",
      "DataFrame Info:\n",
      "<class 'pandas.core.frame.DataFrame'>\n",
      "RangeIndex: 5 entries, 0 to 4\n",
      "Data columns (total 4 columns):\n",
      " #   Column  Non-Null Count  Dtype \n",
      "---  ------  --------------  ----- \n",
      " 0   Name    5 non-null      object\n",
      " 1   Age     5 non-null      int64 \n",
      " 2   City    5 non-null      object\n",
      " 3   Salary  5 non-null      int64 \n",
      "dtypes: int64(2), object(2)\n",
      "memory usage: 288.0+ bytes\n"
     ]
    }
   ],
   "source": [
    "# Basic information about the DataFrame\n",
    "print(\"\\nDataFrame Info:\")\n",
    "df.info()"
   ]
  },
  {
   "cell_type": "code",
   "execution_count": 6,
   "id": "8f189c3f-8a24-47c5-99bc-087eb03a9885",
   "metadata": {},
   "outputs": [
    {
     "name": "stdout",
     "output_type": "stream",
     "text": [
      "\n",
      "Summary Statistics:\n",
      "             Age        Salary\n",
      "count   5.000000      5.000000\n",
      "mean   28.000000  62000.000000\n",
      "std     4.949747  14404.860291\n",
      "min    22.000000  45000.000000\n",
      "25%    25.000000  50000.000000\n",
      "50%    28.000000  65000.000000\n",
      "75%    30.000000  70000.000000\n",
      "max    35.000000  80000.000000\n"
     ]
    }
   ],
   "source": [
    "# Summary statistics\n",
    "print(\"\\nSummary Statistics:\")\n",
    "print(df.describe())"
   ]
  },
  {
   "cell_type": "code",
   "execution_count": 7,
   "id": "605642bc-2e96-4efd-8280-21f1b3a71893",
   "metadata": {},
   "outputs": [
    {
     "name": "stdout",
     "output_type": "stream",
     "text": [
      "\n",
      "Age column:\n",
      "0    25\n",
      "1    30\n",
      "2    35\n",
      "3    28\n",
      "4    22\n",
      "Name: Age, dtype: int64\n"
     ]
    }
   ],
   "source": [
    "# Accessing columns\n",
    "print(\"\\nAge column:\")\n",
    "print(df['Age'])"
   ]
  },
  {
   "cell_type": "code",
   "execution_count": 8,
   "id": "612814bd-cccc-4188-9493-2db2e51e9135",
   "metadata": {},
   "outputs": [
    {
     "name": "stdout",
     "output_type": "stream",
     "text": [
      "0    50000\n",
      "1    70000\n",
      "2    80000\n",
      "3    65000\n",
      "4    45000\n",
      "Name: Salary, dtype: int64\n"
     ]
    }
   ],
   "source": [
    "print(df['Salary'])"
   ]
  },
  {
   "cell_type": "code",
   "execution_count": 7,
   "id": "2360453a-79e3-48e5-9a5d-bca521a74dc2",
   "metadata": {},
   "outputs": [
    {
     "name": "stdout",
     "output_type": "stream",
     "text": [
      "\n",
      "DataFrame with new 'Experience' column:\n",
      "      Name  Age           City  Salary  Experience\n",
      "0    Alice   25       New York   50000           3\n",
      "1      Bob   30  San Francisco   70000           7\n",
      "2  Charlie   35    Los Angeles   80000          12\n",
      "3    David   28        Chicago   65000           5\n",
      "4      Eva   22         Boston   45000           1\n"
     ]
    }
   ],
   "source": [
    "# Adding a new column\n",
    "df['Experience'] = [3, 7, 12, 5, 1]\n",
    "print(\"\\nDataFrame with new 'Experience' column:\")\n",
    "print(df)"
   ]
  },
  {
   "cell_type": "code",
   "execution_count": 9,
   "id": "5d0f9d76-35a2-4785-a9e2-b1db2e143165",
   "metadata": {},
   "outputs": [
    {
     "name": "stdout",
     "output_type": "stream",
     "text": [
      "      Name  Age           City  Salary  bonus\n",
      "0    Alice   25       New York   50000    500\n",
      "1      Bob   30  San Francisco   70000    800\n",
      "2  Charlie   35    Los Angeles   80000    750\n",
      "3    David   28        Chicago   65000   1000\n",
      "4      Eva   22         Boston   45000    500\n"
     ]
    }
   ],
   "source": [
    "df['bonus']=[500,800,750,1000,500]\n",
    "print(df)"
   ]
  },
  {
   "cell_type": "code",
   "execution_count": 8,
   "id": "7d0f326d-fc6b-4ec4-bc03-5c50f8be0939",
   "metadata": {},
   "outputs": [
    {
     "name": "stdout",
     "output_type": "stream",
     "text": [
      "\n",
      "Employees older than 28:\n",
      "      Name  Age           City  Salary  Experience\n",
      "1      Bob   30  San Francisco   70000           7\n",
      "2  Charlie   35    Los Angeles   80000          12\n"
     ]
    }
   ],
   "source": [
    "# Filtering rows\n",
    "print(\"\\nEmployees older than 28:\")\n",
    "print(df[df['Age'] > 28])"
   ]
  },
  {
   "cell_type": "code",
   "execution_count": 10,
   "id": "483c06bb-1f8b-4f64-aea1-9b8fdb714d99",
   "metadata": {},
   "outputs": [
    {
     "name": "stdout",
     "output_type": "stream",
     "text": [
      "      Name  Age           City  Salary  bonus\n",
      "1      Bob   30  San Francisco   70000    800\n",
      "2  Charlie   35    Los Angeles   80000    750\n",
      "3    David   28        Chicago   65000   1000\n"
     ]
    }
   ],
   "source": [
    "print(df[df['bonus']>700])"
   ]
  },
  {
   "cell_type": "code",
   "execution_count": null,
   "id": "16c4bd97-bbce-4609-965a-2ad7d3ffe0b1",
   "metadata": {},
   "outputs": [],
   "source": []
  },
  {
   "cell_type": "code",
   "execution_count": 9,
   "id": "436ce650-162d-428d-8329-e5f1c60ea023",
   "metadata": {},
   "outputs": [
    {
     "name": "stdout",
     "output_type": "stream",
     "text": [
      "\n",
      "DataFrame sorted by Salary (descending):\n",
      "      Name  Age           City  Salary  Experience\n",
      "2  Charlie   35    Los Angeles   80000          12\n",
      "1      Bob   30  San Francisco   70000           7\n",
      "3    David   28        Chicago   65000           5\n",
      "0    Alice   25       New York   50000           3\n",
      "4      Eva   22         Boston   45000           1\n"
     ]
    }
   ],
   "source": [
    "# Sorting the DataFrame\n",
    "print(\"\\nDataFrame sorted by Salary (descending):\")\n",
    "print(df.sort_values('Salary', ascending=False))"
   ]
  },
  {
   "cell_type": "code",
   "execution_count": 11,
   "id": "31d1a592-16aa-4dc0-bbf4-c29dd3a02d2b",
   "metadata": {},
   "outputs": [
    {
     "name": "stdout",
     "output_type": "stream",
     "text": [
      "      Name  Age           City  Salary  bonus\n",
      "0    Alice   25       New York   50000    500\n",
      "1      Bob   30  San Francisco   70000    800\n",
      "2  Charlie   35    Los Angeles   80000    750\n",
      "3    David   28        Chicago   65000   1000\n",
      "4      Eva   22         Boston   45000    500\n"
     ]
    }
   ],
   "source": [
    "print(df.sort_values('Name', ascending=True))"
   ]
  },
  {
   "cell_type": "code",
   "execution_count": 10,
   "id": "e15a8f13-3d9f-44ea-9668-6893d5295e76",
   "metadata": {},
   "outputs": [
    {
     "name": "stdout",
     "output_type": "stream",
     "text": [
      "\n",
      "Average salary by city:\n",
      "City\n",
      "Boston           45000.0\n",
      "Chicago          65000.0\n",
      "Los Angeles      80000.0\n",
      "New York         50000.0\n",
      "San Francisco    70000.0\n",
      "Name: Salary, dtype: float64\n"
     ]
    }
   ],
   "source": [
    "# Grouping and aggregation\n",
    "print(\"\\nAverage salary by city:\")\n",
    "print(df.groupby('City')['Salary'].mean())"
   ]
  },
  {
   "cell_type": "code",
   "execution_count": 11,
   "id": "912133bf-ec15-4c94-b22c-b78c2518884c",
   "metadata": {},
   "outputs": [
    {
     "name": "stdout",
     "output_type": "stream",
     "text": [
      "\n",
      "DataFrame with new 'Salary_After_Tax' column:\n",
      "      Name  Age           City  Salary  Experience  Salary_After_Tax\n",
      "0    Alice   25       New York   50000           3           40000.0\n",
      "1      Bob   30  San Francisco   70000           7           56000.0\n",
      "2  Charlie   35    Los Angeles   80000          12           64000.0\n",
      "3    David   28        Chicago   65000           5           52000.0\n",
      "4      Eva   22         Boston   45000           1           36000.0\n"
     ]
    }
   ],
   "source": [
    "# Applying a function to a column\n",
    "df['Salary_After_Tax'] = df['Salary'].apply(lambda x: x * 0.8)\n",
    "print(\"\\nDataFrame with new 'Salary_After_Tax' column:\")\n",
    "print(df)"
   ]
  },
  {
   "cell_type": "code",
   "execution_count": 12,
   "id": "0aeacf1d-9b2f-4363-82ee-8cbfbe9adf1f",
   "metadata": {},
   "outputs": [
    {
     "name": "stdout",
     "output_type": "stream",
     "text": [
      "      Name  Age           City  Salary  bonus  revised_bonus\n",
      "0    Alice   25       New York   50000    500           1500\n",
      "1      Bob   30  San Francisco   70000    800           1800\n",
      "2  Charlie   35    Los Angeles   80000    750           1750\n",
      "3    David   28        Chicago   65000   1000           2000\n",
      "4      Eva   22         Boston   45000    500           1500\n"
     ]
    }
   ],
   "source": [
    "df['revised_bonus']=df['bonus'].apply(lambda x:x+1000)\n",
    "print(df)"
   ]
  },
  {
   "cell_type": "code",
   "execution_count": 12,
   "id": "68d14b6e-4d1d-451c-8bc0-0551ae7f098e",
   "metadata": {},
   "outputs": [
    {
     "name": "stdout",
     "output_type": "stream",
     "text": [
      "\n",
      "DataFrame with a missing value:\n",
      "      Name   Age           City  Salary  Experience  Salary_After_Tax\n",
      "0    Alice  25.0       New York   50000           3           40000.0\n",
      "1      Bob  30.0  San Francisco   70000           7           56000.0\n",
      "2  Charlie   NaN    Los Angeles   80000          12           64000.0\n",
      "3    David  28.0        Chicago   65000           5           52000.0\n",
      "4      Eva  22.0         Boston   45000           1           36000.0\n"
     ]
    }
   ],
   "source": [
    "# Handling missing data\n",
    "df.loc[2, 'Age'] = np.nan\n",
    "print(\"\\nDataFrame with a missing value:\")\n",
    "print(df)\n",
    "\n"
   ]
  },
  {
   "cell_type": "code",
   "execution_count": 13,
   "id": "6ba95e84-fb27-4fbc-a40f-076033035c3e",
   "metadata": {},
   "outputs": [
    {
     "name": "stdout",
     "output_type": "stream",
     "text": [
      "\n",
      "Dropping rows with missing values:\n",
      "    Name   Age           City  Salary  Experience  Salary_After_Tax\n",
      "0  Alice  25.0       New York   50000           3           40000.0\n",
      "1    Bob  30.0  San Francisco   70000           7           56000.0\n",
      "3  David  28.0        Chicago   65000           5           52000.0\n",
      "4    Eva  22.0         Boston   45000           1           36000.0\n"
     ]
    }
   ],
   "source": [
    "print(\"\\nDropping rows with missing values:\")\n",
    "print(df.dropna())"
   ]
  },
  {
   "cell_type": "code",
   "execution_count": 14,
   "id": "b5e7a0bb-22c7-4be8-902c-5f6e7f4ec646",
   "metadata": {},
   "outputs": [
    {
     "name": "stdout",
     "output_type": "stream",
     "text": [
      "\n",
      "DataFrame with renamed 'Salary' column:\n",
      "      Name   Age           City  Annual_Salary  Experience  Salary_After_Tax\n",
      "0    Alice  25.0       New York          50000           3           40000.0\n",
      "1      Bob  30.0  San Francisco          70000           7           56000.0\n",
      "2  Charlie   NaN    Los Angeles          80000          12           64000.0\n",
      "3    David  28.0        Chicago          65000           5           52000.0\n",
      "4      Eva  22.0         Boston          45000           1           36000.0\n"
     ]
    }
   ],
   "source": [
    "# Renaming columns\n",
    "df = df.rename(columns={'Salary': 'Annual_Salary'})\n",
    "print(\"\\nDataFrame with renamed 'Salary' column:\")\n",
    "print(df)"
   ]
  },
  {
   "cell_type": "code",
   "execution_count": 14,
   "id": "55249f9a-4e09-4ca3-9e80-53125b00bfd8",
   "metadata": {},
   "outputs": [
    {
     "name": "stdout",
     "output_type": "stream",
     "text": [
      "  Employee_name  Age           City  Salary  bonus  revised_bonus\n",
      "0         Alice   25       New York   50000    500           1500\n",
      "1           Bob   30  San Francisco   70000    800           1800\n",
      "2       Charlie   35    Los Angeles   80000    750           1750\n",
      "3         David   28        Chicago   65000   1000           2000\n",
      "4           Eva   22         Boston   45000    500           1500\n"
     ]
    }
   ],
   "source": [
    "df=df.rename(columns={'Name':'Employee_name'})\n",
    "print(df)"
   ]
  },
  {
   "cell_type": "code",
   "execution_count": null,
   "id": "9faa1e57-1518-4a23-96be-1c2d8bbea894",
   "metadata": {},
   "outputs": [],
   "source": []
  }
 ],
 "metadata": {
  "kernelspec": {
   "display_name": "Python 3 (ipykernel)",
   "language": "python",
   "name": "python3"
  },
  "language_info": {
   "codemirror_mode": {
    "name": "ipython",
    "version": 3
   },
   "file_extension": ".py",
   "mimetype": "text/x-python",
   "name": "python",
   "nbconvert_exporter": "python",
   "pygments_lexer": "ipython3",
   "version": "3.9.12"
  }
 },
 "nbformat": 4,
 "nbformat_minor": 5
}
