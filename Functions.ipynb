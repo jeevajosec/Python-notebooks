{
 "cells": [
  {
   "cell_type": "markdown",
   "id": "159c42df-23e3-47d6-a63d-bf6922ceb94f",
   "metadata": {},
   "source": [
    "Function\n",
    "\n",
    "def function_name():\n",
    "    function body\n",
    "    return value #optional"
   ]
  },
  {
   "cell_type": "code",
   "execution_count": 2,
   "id": "8b1b34ed-262f-4633-89db-8ede4a449f05",
   "metadata": {},
   "outputs": [],
   "source": [
    "def add(a,b):\n",
    "    return a+b"
   ]
  },
  {
   "cell_type": "code",
   "execution_count": 3,
   "id": "0aae39c7-8d2c-4f30-9bb2-fe9d0e75f67b",
   "metadata": {},
   "outputs": [
    {
     "name": "stdout",
     "output_type": "stream",
     "text": [
      "7\n"
     ]
    }
   ],
   "source": [
    "print(add(3,4))"
   ]
  },
  {
   "cell_type": "code",
   "execution_count": 4,
   "id": "44c70f8e-eb23-4140-9d88-13afd411339d",
   "metadata": {},
   "outputs": [],
   "source": [
    "def greeting(name, greet=\"Hello\"):\n",
    "    return f\"{greet}, {name}!\""
   ]
  },
  {
   "cell_type": "code",
   "execution_count": 5,
   "id": "777719ae-0b9c-4748-99e2-91a0b64943ad",
   "metadata": {},
   "outputs": [
    {
     "name": "stdout",
     "output_type": "stream",
     "text": [
      "Hello, Jitha!\n"
     ]
    }
   ],
   "source": [
    "print(greeting(name=\"Jitha\"))"
   ]
  },
  {
   "cell_type": "code",
   "execution_count": 6,
   "id": "2e13a1e9-ee7c-4bf0-9853-e7cb99e8674d",
   "metadata": {},
   "outputs": [
    {
     "name": "stdout",
     "output_type": "stream",
     "text": [
      "hi, Jitha!\n"
     ]
    }
   ],
   "source": [
    "print(greeting(name=\"Jitha\", greet=\"hi\"))"
   ]
  },
  {
   "cell_type": "code",
   "execution_count": 12,
   "id": "b836cc16-16fa-4b90-8401-1738d564ea53",
   "metadata": {},
   "outputs": [],
   "source": [
    "def power(base, exponent=2):\n",
    "    return base**exponent"
   ]
  },
  {
   "cell_type": "code",
   "execution_count": 13,
   "id": "af4624e9-3147-4fe7-9716-20f2f5f69ae3",
   "metadata": {},
   "outputs": [
    {
     "name": "stdout",
     "output_type": "stream",
     "text": [
      "9\n"
     ]
    }
   ],
   "source": [
    "print(power(3))"
   ]
  },
  {
   "cell_type": "code",
   "execution_count": 14,
   "id": "e72ec132-21c4-450c-b9c1-19771059ed37",
   "metadata": {},
   "outputs": [],
   "source": [
    "def local():\n",
    "    x=20\n",
    "    print(x)"
   ]
  },
  {
   "cell_type": "code",
   "execution_count": 17,
   "id": "0006aaa4-62fb-4d67-9c94-5a7a41c1464f",
   "metadata": {},
   "outputs": [],
   "source": [
    "x=10"
   ]
  },
  {
   "cell_type": "code",
   "execution_count": 18,
   "id": "33d88f78-e2c5-4994-8c2b-474e9a194a58",
   "metadata": {},
   "outputs": [
    {
     "name": "stdout",
     "output_type": "stream",
     "text": [
      "20\n"
     ]
    }
   ],
   "source": [
    "local()"
   ]
  },
  {
   "cell_type": "code",
   "execution_count": 19,
   "id": "eafc89f9-b0b6-44ff-bf54-d60c1b19515d",
   "metadata": {},
   "outputs": [
    {
     "data": {
      "text/plain": [
       "10"
      ]
     },
     "execution_count": 19,
     "metadata": {},
     "output_type": "execute_result"
    }
   ],
   "source": [
    "x"
   ]
  },
  {
   "cell_type": "code",
   "execution_count": 20,
   "id": "fa7a9ec5-5537-4aed-bae5-b6cd12ffa07f",
   "metadata": {},
   "outputs": [],
   "source": [
    "def greeting(name, greet=\"Hello\"):\n",
    "    return f\"{name}, {greet}!\""
   ]
  },
  {
   "cell_type": "code",
   "execution_count": 21,
   "id": "e182303a-fa30-4776-969b-9def2a801f71",
   "metadata": {},
   "outputs": [
    {
     "name": "stdout",
     "output_type": "stream",
     "text": [
      "Jitha, hi!\n"
     ]
    }
   ],
   "source": [
    "print(greeting(name=\"Jitha\", greet=\"hi\"))"
   ]
  },
  {
   "cell_type": "code",
   "execution_count": 1,
   "id": "b6613fd3-8fcd-4472-8837-cc771636f258",
   "metadata": {},
   "outputs": [],
   "source": [
    "def factorial(n):\n",
    "    if n<0:\n",
    "        return None\n",
    "    elif n==0 or n==1:\n",
    "        return 1\n",
    "    else:\n",
    "        return n*factorial(n-1)"
   ]
  },
  {
   "cell_type": "code",
   "execution_count": 2,
   "id": "6f9d4707-643d-4375-86f1-c9935a1de075",
   "metadata": {},
   "outputs": [
    {
     "data": {
      "text/plain": [
       "120"
      ]
     },
     "execution_count": 2,
     "metadata": {},
     "output_type": "execute_result"
    }
   ],
   "source": [
    "factorial(5)"
   ]
  },
  {
   "cell_type": "code",
   "execution_count": null,
   "id": "7fd87439-6701-47e2-9b14-e9d536632682",
   "metadata": {},
   "outputs": [],
   "source": []
  }
 ],
 "metadata": {
  "kernelspec": {
   "display_name": "Python 3 (ipykernel)",
   "language": "python",
   "name": "python3"
  },
  "language_info": {
   "codemirror_mode": {
    "name": "ipython",
    "version": 3
   },
   "file_extension": ".py",
   "mimetype": "text/x-python",
   "name": "python",
   "nbconvert_exporter": "python",
   "pygments_lexer": "ipython3",
   "version": "3.9.12"
  }
 },
 "nbformat": 4,
 "nbformat_minor": 5
}
